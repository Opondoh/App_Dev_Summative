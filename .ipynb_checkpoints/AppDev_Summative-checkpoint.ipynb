{
 "cells": [
  {
   "cell_type": "markdown",
   "metadata": {},
   "source": [
    "# <font color=blue>AppDev_Summative </font>"
   ]
  },
  {
   "cell_type": "markdown",
   "metadata": {},
   "source": [
    "### Import neccessary libraries"
   ]
  },
  {
   "cell_type": "code",
   "execution_count": 1,
   "metadata": {},
   "outputs": [],
   "source": [
    "from sklearn import linear_model\n",
    "import pandas as pd"
   ]
  },
  {
   "cell_type": "markdown",
   "metadata": {},
   "source": [
    "### Load data from all data files"
   ]
  },
  {
   "cell_type": "code",
   "execution_count": 2,
   "metadata": {},
   "outputs": [],
   "source": [
    "dSolar_1 = pd.read_csv('solar_farm.csv')\n",
    "dSolar_2 = pd.read_csv('solar_generation_data.csv')\n",
    "dWind_1 = pd.read_csv('wind_farm.csv')\n",
    "dWind_2 = pd.read_csv('wind_generation_data.csv')"
   ]
  },
  {
   "cell_type": "code",
   "execution_count": 3,
   "metadata": {},
   "outputs": [
    {
     "name": "stdout",
     "output_type": "stream",
     "text": [
      "(365, 8) (366, 3)\n"
     ]
    }
   ],
   "source": [
    "print(dSolar_2.shape, dWind_2.shape)"
   ]
  },
  {
   "cell_type": "code",
   "execution_count": 4,
   "metadata": {},
   "outputs": [
    {
     "data": {
      "text/html": [
       "<div>\n",
       "<style scoped>\n",
       "    .dataframe tbody tr th:only-of-type {\n",
       "        vertical-align: middle;\n",
       "    }\n",
       "\n",
       "    .dataframe tbody tr th {\n",
       "        vertical-align: top;\n",
       "    }\n",
       "\n",
       "    .dataframe thead th {\n",
       "        text-align: right;\n",
       "    }\n",
       "</style>\n",
       "<table border=\"1\" class=\"dataframe\">\n",
       "  <thead>\n",
       "    <tr style=\"text-align: right;\">\n",
       "      <th></th>\n",
       "      <th>Date Of Month</th>\n",
       "      <th>Capacity Available as %</th>\n",
       "    </tr>\n",
       "  </thead>\n",
       "  <tbody>\n",
       "    <tr>\n",
       "      <td>0</td>\n",
       "      <td>3</td>\n",
       "      <td>70</td>\n",
       "    </tr>\n",
       "    <tr>\n",
       "      <td>1</td>\n",
       "      <td>5</td>\n",
       "      <td>60</td>\n",
       "    </tr>\n",
       "    <tr>\n",
       "      <td>2</td>\n",
       "      <td>7</td>\n",
       "      <td>50</td>\n",
       "    </tr>\n",
       "    <tr>\n",
       "      <td>3</td>\n",
       "      <td>8</td>\n",
       "      <td>45</td>\n",
       "    </tr>\n",
       "    <tr>\n",
       "      <td>4</td>\n",
       "      <td>15</td>\n",
       "      <td>55</td>\n",
       "    </tr>\n",
       "  </tbody>\n",
       "</table>\n",
       "</div>"
      ],
      "text/plain": [
       "   Date Of Month  Capacity Available as %\n",
       "0              3                       70\n",
       "1              5                       60\n",
       "2              7                       50\n",
       "3              8                       45\n",
       "4             15                       55"
      ]
     },
     "execution_count": 4,
     "metadata": {},
     "output_type": "execute_result"
    }
   ],
   "source": [
    "dWind_1.head()"
   ]
  },
  {
   "cell_type": "code",
   "execution_count": 5,
   "metadata": {},
   "outputs": [
    {
     "data": {
      "text/html": [
       "<div>\n",
       "<style scoped>\n",
       "    .dataframe tbody tr th:only-of-type {\n",
       "        vertical-align: middle;\n",
       "    }\n",
       "\n",
       "    .dataframe tbody tr th {\n",
       "        vertical-align: top;\n",
       "    }\n",
       "\n",
       "    .dataframe thead th {\n",
       "        text-align: right;\n",
       "    }\n",
       "</style>\n",
       "<table border=\"1\" class=\"dataframe\">\n",
       "  <thead>\n",
       "    <tr style=\"text-align: right;\">\n",
       "      <th></th>\n",
       "      <th>Date Of Month</th>\n",
       "      <th>Capacity Available</th>\n",
       "    </tr>\n",
       "  </thead>\n",
       "  <tbody>\n",
       "    <tr>\n",
       "      <td>0</td>\n",
       "      <td>4</td>\n",
       "      <td>3</td>\n",
       "    </tr>\n",
       "    <tr>\n",
       "      <td>1</td>\n",
       "      <td>6</td>\n",
       "      <td>5</td>\n",
       "    </tr>\n",
       "    <tr>\n",
       "      <td>2</td>\n",
       "      <td>19</td>\n",
       "      <td>2</td>\n",
       "    </tr>\n",
       "    <tr>\n",
       "      <td>3</td>\n",
       "      <td>23</td>\n",
       "      <td>50</td>\n",
       "    </tr>\n",
       "    <tr>\n",
       "      <td>4</td>\n",
       "      <td>24</td>\n",
       "      <td>20</td>\n",
       "    </tr>\n",
       "  </tbody>\n",
       "</table>\n",
       "</div>"
      ],
      "text/plain": [
       "   Date Of Month  Capacity Available\n",
       "0              4                   3\n",
       "1              6                   5\n",
       "2             19                   2\n",
       "3             23                  50\n",
       "4             24                  20"
      ]
     },
     "execution_count": 5,
     "metadata": {},
     "output_type": "execute_result"
    }
   ],
   "source": [
    "dSolar_1.head()"
   ]
  },
  {
   "cell_type": "markdown",
   "metadata": {},
   "source": [
    "### View first 5 datasets from the Solar dataframes"
   ]
  },
  {
   "cell_type": "code",
   "execution_count": 6,
   "metadata": {},
   "outputs": [
    {
     "data": {
      "text/html": [
       "<div>\n",
       "<style scoped>\n",
       "    .dataframe tbody tr th:only-of-type {\n",
       "        vertical-align: middle;\n",
       "    }\n",
       "\n",
       "    .dataframe tbody tr th {\n",
       "        vertical-align: top;\n",
       "    }\n",
       "\n",
       "    .dataframe thead th {\n",
       "        text-align: right;\n",
       "    }\n",
       "</style>\n",
       "<table border=\"1\" class=\"dataframe\">\n",
       "  <thead>\n",
       "    <tr style=\"text-align: right;\">\n",
       "      <th></th>\n",
       "      <th>Month</th>\n",
       "      <th>Day</th>\n",
       "      <th>Temp Hi</th>\n",
       "      <th>Temp Low</th>\n",
       "      <th>Solar</th>\n",
       "      <th>Cloud Cover Percentage</th>\n",
       "      <th>Rainfall in mm</th>\n",
       "      <th>Power Generated in MW</th>\n",
       "    </tr>\n",
       "  </thead>\n",
       "  <tbody>\n",
       "    <tr>\n",
       "      <td>0</td>\n",
       "      <td>Jan</td>\n",
       "      <td>1</td>\n",
       "      <td>109°</td>\n",
       "      <td>85°</td>\n",
       "      <td>30.0</td>\n",
       "      <td>9</td>\n",
       "      <td>0.0</td>\n",
       "      <td>9.93</td>\n",
       "    </tr>\n",
       "    <tr>\n",
       "      <td>1</td>\n",
       "      <td>Jan</td>\n",
       "      <td>2</td>\n",
       "      <td>106°</td>\n",
       "      <td>71°</td>\n",
       "      <td>30.1</td>\n",
       "      <td>9</td>\n",
       "      <td>0.0</td>\n",
       "      <td>9.97</td>\n",
       "    </tr>\n",
       "    <tr>\n",
       "      <td>2</td>\n",
       "      <td>Jan</td>\n",
       "      <td>3</td>\n",
       "      <td>106°</td>\n",
       "      <td>81°</td>\n",
       "      <td>29.5</td>\n",
       "      <td>9</td>\n",
       "      <td>0.0</td>\n",
       "      <td>9.77</td>\n",
       "    </tr>\n",
       "    <tr>\n",
       "      <td>3</td>\n",
       "      <td>Jan</td>\n",
       "      <td>4</td>\n",
       "      <td>102°</td>\n",
       "      <td>83°</td>\n",
       "      <td>13.0</td>\n",
       "      <td>4</td>\n",
       "      <td>0.0</td>\n",
       "      <td>4.30</td>\n",
       "    </tr>\n",
       "    <tr>\n",
       "      <td>4</td>\n",
       "      <td>Jan</td>\n",
       "      <td>5</td>\n",
       "      <td>105°</td>\n",
       "      <td>80°</td>\n",
       "      <td>30.1</td>\n",
       "      <td>9</td>\n",
       "      <td>0.0</td>\n",
       "      <td>9.97</td>\n",
       "    </tr>\n",
       "  </tbody>\n",
       "</table>\n",
       "</div>"
      ],
      "text/plain": [
       "  Month   Day Temp Hi Temp Low  Solar  Cloud Cover Percentage  Rainfall in mm  \\\n",
       "0    Jan    1    109°      85°   30.0                       9             0.0   \n",
       "1    Jan    2    106°      71°   30.1                       9             0.0   \n",
       "2    Jan    3    106°      81°   29.5                       9             0.0   \n",
       "3    Jan    4    102°      83°   13.0                       4             0.0   \n",
       "4    Jan    5    105°      80°   30.1                       9             0.0   \n",
       "\n",
       "   Power Generated in MW  \n",
       "0                   9.93  \n",
       "1                   9.97  \n",
       "2                   9.77  \n",
       "3                   4.30  \n",
       "4                   9.97  "
      ]
     },
     "execution_count": 6,
     "metadata": {},
     "output_type": "execute_result"
    }
   ],
   "source": [
    "dSolar_2.head()"
   ]
  },
  {
   "cell_type": "code",
   "execution_count": 7,
   "metadata": {},
   "outputs": [],
   "source": [
    "#remove the degree symbol\n",
    "dSolar_2['Temp Hi'] = dSolar_2['Temp Hi'].replace('\\u00b0','', regex=True)\n",
    "dSolar_2['Temp Low'] = dSolar_2['Temp Low'].replace('\\u00b0','', regex=True)"
   ]
  },
  {
   "cell_type": "code",
   "execution_count": 8,
   "metadata": {},
   "outputs": [
    {
     "data": {
      "text/html": [
       "<div>\n",
       "<style scoped>\n",
       "    .dataframe tbody tr th:only-of-type {\n",
       "        vertical-align: middle;\n",
       "    }\n",
       "\n",
       "    .dataframe tbody tr th {\n",
       "        vertical-align: top;\n",
       "    }\n",
       "\n",
       "    .dataframe thead th {\n",
       "        text-align: right;\n",
       "    }\n",
       "</style>\n",
       "<table border=\"1\" class=\"dataframe\">\n",
       "  <thead>\n",
       "    <tr style=\"text-align: right;\">\n",
       "      <th></th>\n",
       "      <th>Month</th>\n",
       "      <th>Day</th>\n",
       "      <th>Temp Hi</th>\n",
       "      <th>Temp Low</th>\n",
       "      <th>Solar</th>\n",
       "      <th>Cloud Cover Percentage</th>\n",
       "      <th>Rainfall in mm</th>\n",
       "      <th>Power Generated in MW</th>\n",
       "    </tr>\n",
       "  </thead>\n",
       "  <tbody>\n",
       "    <tr>\n",
       "      <td>0</td>\n",
       "      <td>Jan</td>\n",
       "      <td>1</td>\n",
       "      <td>109</td>\n",
       "      <td>85</td>\n",
       "      <td>30.0</td>\n",
       "      <td>9</td>\n",
       "      <td>0.0</td>\n",
       "      <td>9.93</td>\n",
       "    </tr>\n",
       "    <tr>\n",
       "      <td>1</td>\n",
       "      <td>Jan</td>\n",
       "      <td>2</td>\n",
       "      <td>106</td>\n",
       "      <td>71</td>\n",
       "      <td>30.1</td>\n",
       "      <td>9</td>\n",
       "      <td>0.0</td>\n",
       "      <td>9.97</td>\n",
       "    </tr>\n",
       "    <tr>\n",
       "      <td>2</td>\n",
       "      <td>Jan</td>\n",
       "      <td>3</td>\n",
       "      <td>106</td>\n",
       "      <td>81</td>\n",
       "      <td>29.5</td>\n",
       "      <td>9</td>\n",
       "      <td>0.0</td>\n",
       "      <td>9.77</td>\n",
       "    </tr>\n",
       "    <tr>\n",
       "      <td>3</td>\n",
       "      <td>Jan</td>\n",
       "      <td>4</td>\n",
       "      <td>102</td>\n",
       "      <td>83</td>\n",
       "      <td>13.0</td>\n",
       "      <td>4</td>\n",
       "      <td>0.0</td>\n",
       "      <td>4.30</td>\n",
       "    </tr>\n",
       "    <tr>\n",
       "      <td>4</td>\n",
       "      <td>Jan</td>\n",
       "      <td>5</td>\n",
       "      <td>105</td>\n",
       "      <td>80</td>\n",
       "      <td>30.1</td>\n",
       "      <td>9</td>\n",
       "      <td>0.0</td>\n",
       "      <td>9.97</td>\n",
       "    </tr>\n",
       "  </tbody>\n",
       "</table>\n",
       "</div>"
      ],
      "text/plain": [
       "  Month   Day Temp Hi Temp Low  Solar  Cloud Cover Percentage  Rainfall in mm  \\\n",
       "0    Jan    1     109       85   30.0                       9             0.0   \n",
       "1    Jan    2     106       71   30.1                       9             0.0   \n",
       "2    Jan    3     106       81   29.5                       9             0.0   \n",
       "3    Jan    4     102       83   13.0                       4             0.0   \n",
       "4    Jan    5     105       80   30.1                       9             0.0   \n",
       "\n",
       "   Power Generated in MW  \n",
       "0                   9.93  \n",
       "1                   9.97  \n",
       "2                   9.77  \n",
       "3                   4.30  \n",
       "4                   9.97  "
      ]
     },
     "execution_count": 8,
     "metadata": {},
     "output_type": "execute_result"
    }
   ],
   "source": [
    "dSolar_2.head()"
   ]
  },
  {
   "cell_type": "code",
   "execution_count": 9,
   "metadata": {},
   "outputs": [
    {
     "data": {
      "text/plain": [
       "Index(['Month ', 'Day', 'Temp Hi', 'Temp Low', 'Solar',\n",
       "       'Cloud Cover Percentage', 'Rainfall in mm', 'Power Generated in MW'],\n",
       "      dtype='object')"
      ]
     },
     "execution_count": 9,
     "metadata": {},
     "output_type": "execute_result"
    }
   ],
   "source": [
    "#confirm all column names for solar data\n",
    "dSolar_2.columns"
   ]
  },
  {
   "cell_type": "code",
   "execution_count": 10,
   "metadata": {},
   "outputs": [
    {
     "name": "stdout",
     "output_type": "stream",
     "text": [
      "<class 'pandas.core.frame.DataFrame'>\n",
      "RangeIndex: 365 entries, 0 to 364\n",
      "Data columns (total 8 columns):\n",
      "Month                     365 non-null object\n",
      "Day                       365 non-null int64\n",
      "Temp Hi                   365 non-null object\n",
      "Temp Low                  365 non-null object\n",
      "Solar                     365 non-null float64\n",
      "Cloud Cover Percentage    365 non-null int64\n",
      "Rainfall in mm            312 non-null float64\n",
      "Power Generated in MW     365 non-null float64\n",
      "dtypes: float64(3), int64(2), object(3)\n",
      "memory usage: 22.9+ KB\n"
     ]
    }
   ],
   "source": [
    "#check column data types\n",
    "dSolar_2.info()"
   ]
  },
  {
   "cell_type": "code",
   "execution_count": 11,
   "metadata": {},
   "outputs": [
    {
     "name": "stdout",
     "output_type": "stream",
     "text": [
      "<class 'pandas.core.frame.DataFrame'>\n",
      "RangeIndex: 365 entries, 0 to 364\n",
      "Data columns (total 8 columns):\n",
      "Month                     365 non-null object\n",
      "Day                       365 non-null int64\n",
      "Temp Hi                   365 non-null int64\n",
      "Temp Low                  365 non-null int64\n",
      "Solar                     365 non-null float64\n",
      "Cloud Cover Percentage    365 non-null int64\n",
      "Rainfall in mm            312 non-null float64\n",
      "Power Generated in MW     365 non-null float64\n",
      "dtypes: float64(3), int64(4), object(1)\n",
      "memory usage: 22.9+ KB\n"
     ]
    }
   ],
   "source": [
    "#change Temp Hi and Temp Low to numeric\n",
    "cols=[i for i in dSolar_2.columns if i in ['Temp Hi', 'Temp Low']]\n",
    "for col in cols:\n",
    "    dSolar_2[col]=pd.to_numeric(dSolar_2[col], errors='coerce')\n",
    "dSolar_2.info()"
   ]
  },
  {
   "cell_type": "code",
   "execution_count": 12,
   "metadata": {},
   "outputs": [
    {
     "data": {
      "text/plain": [
       "Month                      0\n",
       "Day                        0\n",
       "Temp Hi                    0\n",
       "Temp Low                   0\n",
       "Solar                      0\n",
       "Cloud Cover Percentage     0\n",
       "Rainfall in mm            53\n",
       "Power Generated in MW      0\n",
       "dtype: int64"
      ]
     },
     "execution_count": 12,
     "metadata": {},
     "output_type": "execute_result"
    }
   ],
   "source": [
    "#check for any missing values\n",
    "dSolar_2.isnull().sum()"
   ]
  },
  {
   "cell_type": "code",
   "execution_count": 33,
   "metadata": {},
   "outputs": [
    {
     "name": "stdout",
     "output_type": "stream",
     "text": [
      "<class 'pandas.core.frame.DataFrame'>\n",
      "Int64Index: 63 entries, 0 to 62\n",
      "Data columns (total 9 columns):\n",
      "Month                     63 non-null object\n",
      "Day                       63 non-null int64\n",
      "Temp Hi                   63 non-null int64\n",
      "Temp Low                  63 non-null int64\n",
      "Solar                     63 non-null float64\n",
      "Cloud Cover Percentage    63 non-null int64\n",
      "Rainfall in mm            63 non-null float64\n",
      "Power Generated in MW     63 non-null float64\n",
      "Solar_predictions         63 non-null float64\n",
      "dtypes: float64(4), int64(4), object(1)\n",
      "memory usage: 4.9+ KB\n"
     ]
    }
   ],
   "source": [
    "#drop remaining missing values\n",
    "dSolar_clean = dSolar_2.dropna()\n",
    "dSolar_clean.isnull().sum()\n",
    "dSolar_clean.info()"
   ]
  },
  {
   "cell_type": "markdown",
   "metadata": {},
   "source": [
    "### Create a simple ML model which accepts suitable inputs and gives a predicted power output for each power generation plant for any day within the next 7 days. Note that these may be 2 ML models (1 for each plant)"
   ]
  },
  {
   "cell_type": "markdown",
   "metadata": {},
   "source": [
    "### ML model using solar data"
   ]
  },
  {
   "cell_type": "markdown",
   "metadata": {},
   "source": [
    "### Split data into training and test sets"
   ]
  },
  {
   "cell_type": "code",
   "execution_count": 35,
   "metadata": {},
   "outputs": [
    {
     "data": {
      "text/plain": [
       "array([[  1.        , 109.        ,  85.        ,  30.        ,\n",
       "          9.        ,   0.        ,   8.97527571],\n",
       "       [  2.        , 106.        ,  71.        ,  30.1       ,\n",
       "          9.        ,   0.        ,   5.49547145],\n",
       "       [  3.        , 106.        ,  81.        ,  29.5       ,\n",
       "          9.        ,   0.        ,   8.34453495],\n",
       "       [  4.        , 102.        ,  83.        ,  13.        ,\n",
       "          4.        ,   0.        ,   6.19193393],\n",
       "       [  5.        , 105.        ,  80.        ,  30.1       ,\n",
       "          9.        ,   0.        ,   6.29154239],\n",
       "       [  6.        , 107.        ,  84.        ,  26.3       ,\n",
       "          8.        ,   0.        ,   6.522741  ],\n",
       "       [  7.        , 104.        ,  82.        ,  30.2       ,\n",
       "          9.        ,   0.        ,   3.24461867],\n",
       "       [  8.        , 100.        ,  69.        ,  29.8       ,\n",
       "          9.        ,   0.        ,   5.96102591],\n",
       "       [  9.        , 103.        ,  81.        ,  30.1       ,\n",
       "          9.        ,   0.        ,   8.54286061],\n",
       "       [ 10.        , 104.        ,  82.        ,  27.1       ,\n",
       "          9.        ,   0.        ,   8.90668709],\n",
       "       [ 11.        , 106.        ,  81.        ,  22.6       ,\n",
       "          7.        ,   0.        ,   6.588389  ],\n",
       "       [ 12.        , 106.        ,  82.        ,  24.3       ,\n",
       "          8.        ,   0.        ,   8.97493428],\n",
       "       [ 13.        , 105.        ,  80.        ,  29.3       ,\n",
       "          9.        ,   0.        ,   5.79332172],\n",
       "       [ 14.        , 106.        ,  68.        ,  26.2       ,\n",
       "          8.        ,   0.        ,   8.54300148],\n",
       "       [ 15.        , 103.        ,  81.        ,  25.        ,\n",
       "          8.        ,   3.        ,   9.3380042 ],\n",
       "       [ 16.        , 111.        ,  79.        ,  26.6       ,\n",
       "          8.        ,   9.5       ,   7.61570383],\n",
       "       [ 17.        , 108.        ,  88.        ,  29.        ,\n",
       "          9.        ,   0.        ,   6.29099633],\n",
       "       [ 18.        , 108.        ,  80.        ,  28.        ,\n",
       "          9.        ,   0.        ,   9.33856039],\n",
       "       [ 19.        , 110.        ,  80.        ,  26.9       ,\n",
       "          8.        ,   0.        ,   5.76020259],\n",
       "       [ 20.        ,  99.        ,  83.        ,  25.4       ,\n",
       "          8.        ,   0.        ,   9.63612381],\n",
       "       [ 21.        , 102.        ,  71.        ,  29.8       ,\n",
       "          9.        ,   0.        ,   6.55587753],\n",
       "       [ 22.        ,  96.        ,  74.        ,  29.7       ,\n",
       "          9.        ,   0.        ,   5.0335399 ],\n",
       "       [ 23.        ,  93.        ,  77.        ,  25.2       ,\n",
       "          8.        ,   0.        ,   7.48390559],\n",
       "       [ 24.        ,  91.        ,  78.        ,  28.1       ,\n",
       "          9.        ,   0.        ,   5.7276219 ],\n",
       "       [ 25.        ,  92.        ,  76.        ,  18.8       ,\n",
       "          6.        ,   0.        ,   6.48990809],\n",
       "       [ 26.        ,  89.        ,  76.        ,  19.6       ,\n",
       "          6.        ,   0.        ,   9.4042643 ],\n",
       "       [ 27.        ,  86.        ,  76.        ,  23.        ,\n",
       "          7.        ,   0.        ,   5.56214927],\n",
       "       [ 28.        ,  84.        ,  74.        ,  15.4       ,\n",
       "          5.        ,   0.        ,   6.39068577],\n",
       "       [ 29.        ,  82.        ,  75.        ,   1.5       ,\n",
       "          1.        , 138.5       ,   8.2784405 ],\n",
       "       [ 30.        ,  88.        ,  77.        ,  16.6       ,\n",
       "          5.        ,  44.        ,   9.96643041],\n",
       "       [ 31.        ,  89.        ,  78.        ,   6.3       ,\n",
       "          2.        ,  41.        ,   9.20591942],\n",
       "       [  1.        ,  89.        ,  77.        ,   9.8       ,\n",
       "          3.        ,  45.        ,   8.675628  ],\n",
       "       [  2.        ,  93.        ,  77.        ,  11.6       ,\n",
       "          3.        ,  82.5       ,   6.72066846],\n",
       "       [  3.        ,  94.        ,  78.        ,  10.9       ,\n",
       "          3.        ,  33.        ,   8.34470636],\n",
       "       [  4.        ,  95.        ,  78.        ,   5.3       ,\n",
       "          1.        ,  85.        ,   6.39055887],\n",
       "       [  5.        ,  94.        ,  75.        ,   8.8       ,\n",
       "          2.        , 161.5       ,   8.87312529],\n",
       "       [  6.        ,  95.        ,  75.        ,   9.6       ,\n",
       "          3.        , 141.        ,   6.48899247],\n",
       "       [  7.        ,  98.        ,  79.        ,  12.        ,\n",
       "          4.        ,  10.5       ,   8.64252225],\n",
       "       [  8.        ,  99.        ,  80.        ,  12.5       ,\n",
       "          4.        ,   9.        ,   6.78717806],\n",
       "       [  9.        , 101.        ,  79.        ,  28.8       ,\n",
       "          9.        ,  10.5       ,   9.70200757],\n",
       "       [ 10.        , 102.        ,  77.        ,  28.2       ,\n",
       "          9.        ,   0.        ,   4.17155954],\n",
       "       [ 11.        , 100.        ,  77.        ,  28.3       ,\n",
       "          9.        ,   0.        ,   5.79383368],\n",
       "       [ 12.        , 102.        ,  74.        ,  28.5       ,\n",
       "          9.        ,   0.        ,   7.41743075],\n",
       "       [ 13.        , 101.        ,  73.        ,  28.5       ,\n",
       "          9.        ,   0.        ,   7.4507476 ],\n",
       "       [ 14.        , 104.        ,  72.        ,  28.3       ,\n",
       "          9.        ,   0.        ,   7.78110678],\n",
       "       [ 15.        , 108.        ,  77.        ,  28.5       ,\n",
       "          9.        ,   0.        ,   8.47735883],\n",
       "       [ 16.        , 107.        ,  84.        ,  28.6       ,\n",
       "          9.        ,   0.        ,   5.76057252],\n",
       "       [ 17.        , 105.        ,  79.        ,  28.6       ,\n",
       "          9.        ,   0.        ,   6.12550892],\n",
       "       [ 18.        , 103.        ,  79.        ,  28.5       ,\n",
       "          9.        ,   0.        ,   6.32463815],\n",
       "       [ 19.        , 101.        ,  72.        ,  28.4       ,\n",
       "          9.        ,   0.        ,   7.35093422],\n",
       "       [ 20.        ,  99.        ,  79.        ,  28.4       ,\n",
       "          9.        ,   0.        ,   5.09860961],\n",
       "       [ 21.        ,  99.        ,  76.        ,  28.3       ,\n",
       "          9.        ,   0.        ,   5.39725472],\n",
       "       [ 22.        ,  93.        ,  76.        ,  28.2       ,\n",
       "          9.        ,   0.        ,   9.40423501],\n",
       "       [ 23.        ,  91.        ,  77.        ,  28.1       ,\n",
       "          9.        ,   0.        ,   6.48980533],\n",
       "       [ 24.        ,  92.        ,  79.        ,  27.4       ,\n",
       "          9.        ,   0.        ,   9.47138295],\n",
       "       [ 25.        ,  88.        ,  78.        ,  21.3       ,\n",
       "          7.        ,  12.        ,   7.48327549],\n",
       "       [ 26.        ,  94.        ,  78.        ,  24.9       ,\n",
       "          8.        ,   0.        ,   7.18548948],\n",
       "       [ 27.        ,  96.        ,  73.        ,  26.4       ,\n",
       "          8.        ,   0.        ,   5.76016195],\n",
       "       [ 28.        ,  99.        ,  75.        ,  25.5       ,\n",
       "          8.        ,   0.        ,   6.55556035],\n",
       "       [  1.        ,  99.        ,  73.        ,  26.6       ,\n",
       "          8.        ,   0.        ,   5.19817867],\n",
       "       [  2.        ,  93.        ,  78.        ,  26.9       ,\n",
       "          8.        ,   0.        ,   9.70244657],\n",
       "       [  3.        ,  89.        ,  73.        ,  23.4       ,\n",
       "          7.        ,   0.        ,   8.01417489],\n",
       "       [  4.        ,  84.        ,  75.        ,  26.5       ,\n",
       "          8.        ,   0.        ,   9.43770836]])"
      ]
     },
     "execution_count": 35,
     "metadata": {},
     "output_type": "execute_result"
    }
   ],
   "source": [
    "X = dSolar_clean.drop(['Month ', 'Power Generated in MW'], axis = 1).values # X are the input (or independent) variables\n",
    "y = dSolar_clean['Power Generated in MW'].values # Y is output (or dependent) variable"
   ]
  },
  {
   "cell_type": "markdown",
   "metadata": {},
   "source": [
    "A rule of thumb is to split data into training and test sets by 80/20 or 70/30."
   ]
  },
  {
   "cell_type": "code",
   "execution_count": 15,
   "metadata": {},
   "outputs": [],
   "source": [
    "from sklearn.model_selection import train_test_split"
   ]
  },
  {
   "cell_type": "code",
   "execution_count": 16,
   "metadata": {},
   "outputs": [],
   "source": [
    "# create training and testing sets\n",
    "X_train, X_test, y_train, y_test = train_test_split(X, y, test_size=0.2)"
   ]
  },
  {
   "cell_type": "markdown",
   "metadata": {},
   "source": [
    "### Fit the model"
   ]
  },
  {
   "cell_type": "markdown",
   "metadata": {},
   "source": [
    "The `fit()` function fits a linear model. We'll fit the model on the training data."
   ]
  },
  {
   "cell_type": "code",
   "execution_count": 17,
   "metadata": {},
   "outputs": [],
   "source": [
    "lm = linear_model.LinearRegression()\n",
    "model = lm.fit(X_train,y_train)"
   ]
  },
  {
   "cell_type": "markdown",
   "metadata": {},
   "source": [
    "### Make Predictions"
   ]
  },
  {
   "cell_type": "markdown",
   "metadata": {},
   "source": [
    "We'll predict the dependent variable using the linear model we fitted with the test dataset."
   ]
  },
  {
   "cell_type": "code",
   "execution_count": 18,
   "metadata": {},
   "outputs": [],
   "source": [
    "y_pred = lm.predict(X_test)"
   ]
  },
  {
   "cell_type": "code",
   "execution_count": 19,
   "metadata": {},
   "outputs": [
    {
     "name": "stdout",
     "output_type": "stream",
     "text": [
      "[8.97527571 5.49547145 8.34453495 6.19193393 6.29154239]\n"
     ]
    }
   ],
   "source": [
    "print(y_pred[0:5]) # print the first 5 predictions"
   ]
  },
  {
   "cell_type": "code",
   "execution_count": 20,
   "metadata": {},
   "outputs": [
    {
     "name": "stdout",
     "output_type": "stream",
     "text": [
      "8.97 8.97527570942345\n",
      "5.5 5.495471445019957\n",
      "8.34 8.344534950747672\n",
      "6.19 6.191933930745168\n",
      "6.29 6.291542387083749\n",
      "6.52 6.522740999316237\n",
      "3.25 3.2446186710707936\n",
      "5.96 5.96102591161664\n",
      "8.54 8.542860606207594\n",
      "8.91 8.906687087742071\n"
     ]
    }
   ],
   "source": [
    "#side by side of actual values and predicated values\n",
    "y_pred = lm.predict(X_test)\n",
    "\n",
    "#connect predictions with actual banking crisis values\n",
    "for i in range(10):\n",
    "    print(y_test[i], y_pred[i])"
   ]
  },
  {
   "cell_type": "code",
   "execution_count": 21,
   "metadata": {},
   "outputs": [
    {
     "data": {
      "text/html": [
       "<div>\n",
       "<style scoped>\n",
       "    .dataframe tbody tr th:only-of-type {\n",
       "        vertical-align: middle;\n",
       "    }\n",
       "\n",
       "    .dataframe tbody tr th {\n",
       "        vertical-align: top;\n",
       "    }\n",
       "\n",
       "    .dataframe thead th {\n",
       "        text-align: right;\n",
       "    }\n",
       "</style>\n",
       "<table border=\"1\" class=\"dataframe\">\n",
       "  <thead>\n",
       "    <tr style=\"text-align: right;\">\n",
       "      <th></th>\n",
       "      <th>Month</th>\n",
       "      <th>Day</th>\n",
       "      <th>Temp Hi</th>\n",
       "      <th>Temp Low</th>\n",
       "      <th>Solar</th>\n",
       "      <th>Cloud Cover Percentage</th>\n",
       "      <th>Rainfall in mm</th>\n",
       "      <th>Power Generated in MW</th>\n",
       "      <th>Solar_predictions</th>\n",
       "    </tr>\n",
       "  </thead>\n",
       "  <tbody>\n",
       "    <tr>\n",
       "      <td>0</td>\n",
       "      <td>Jan</td>\n",
       "      <td>1</td>\n",
       "      <td>109</td>\n",
       "      <td>85</td>\n",
       "      <td>30.0</td>\n",
       "      <td>9</td>\n",
       "      <td>0.0</td>\n",
       "      <td>9.93</td>\n",
       "      <td>8.975276</td>\n",
       "    </tr>\n",
       "    <tr>\n",
       "      <td>1</td>\n",
       "      <td>Jan</td>\n",
       "      <td>2</td>\n",
       "      <td>106</td>\n",
       "      <td>71</td>\n",
       "      <td>30.1</td>\n",
       "      <td>9</td>\n",
       "      <td>0.0</td>\n",
       "      <td>9.97</td>\n",
       "      <td>5.495471</td>\n",
       "    </tr>\n",
       "    <tr>\n",
       "      <td>2</td>\n",
       "      <td>Jan</td>\n",
       "      <td>3</td>\n",
       "      <td>106</td>\n",
       "      <td>81</td>\n",
       "      <td>29.5</td>\n",
       "      <td>9</td>\n",
       "      <td>0.0</td>\n",
       "      <td>9.77</td>\n",
       "      <td>8.344535</td>\n",
       "    </tr>\n",
       "    <tr>\n",
       "      <td>3</td>\n",
       "      <td>Jan</td>\n",
       "      <td>4</td>\n",
       "      <td>102</td>\n",
       "      <td>83</td>\n",
       "      <td>13.0</td>\n",
       "      <td>4</td>\n",
       "      <td>0.0</td>\n",
       "      <td>4.30</td>\n",
       "      <td>6.191934</td>\n",
       "    </tr>\n",
       "    <tr>\n",
       "      <td>4</td>\n",
       "      <td>Jan</td>\n",
       "      <td>5</td>\n",
       "      <td>105</td>\n",
       "      <td>80</td>\n",
       "      <td>30.1</td>\n",
       "      <td>9</td>\n",
       "      <td>0.0</td>\n",
       "      <td>9.97</td>\n",
       "      <td>6.291542</td>\n",
       "    </tr>\n",
       "    <tr>\n",
       "      <td>5</td>\n",
       "      <td>Jan</td>\n",
       "      <td>6</td>\n",
       "      <td>107</td>\n",
       "      <td>84</td>\n",
       "      <td>26.3</td>\n",
       "      <td>8</td>\n",
       "      <td>0.0</td>\n",
       "      <td>8.71</td>\n",
       "      <td>6.522741</td>\n",
       "    </tr>\n",
       "    <tr>\n",
       "      <td>6</td>\n",
       "      <td>Jan</td>\n",
       "      <td>7</td>\n",
       "      <td>104</td>\n",
       "      <td>82</td>\n",
       "      <td>30.2</td>\n",
       "      <td>9</td>\n",
       "      <td>0.0</td>\n",
       "      <td>10.00</td>\n",
       "      <td>3.244619</td>\n",
       "    </tr>\n",
       "    <tr>\n",
       "      <td>7</td>\n",
       "      <td>Jan</td>\n",
       "      <td>8</td>\n",
       "      <td>100</td>\n",
       "      <td>69</td>\n",
       "      <td>29.8</td>\n",
       "      <td>9</td>\n",
       "      <td>0.0</td>\n",
       "      <td>9.87</td>\n",
       "      <td>5.961026</td>\n",
       "    </tr>\n",
       "    <tr>\n",
       "      <td>8</td>\n",
       "      <td>Jan</td>\n",
       "      <td>9</td>\n",
       "      <td>103</td>\n",
       "      <td>81</td>\n",
       "      <td>30.1</td>\n",
       "      <td>9</td>\n",
       "      <td>0.0</td>\n",
       "      <td>9.97</td>\n",
       "      <td>8.542861</td>\n",
       "    </tr>\n",
       "    <tr>\n",
       "      <td>9</td>\n",
       "      <td>Jan</td>\n",
       "      <td>10</td>\n",
       "      <td>104</td>\n",
       "      <td>82</td>\n",
       "      <td>27.1</td>\n",
       "      <td>9</td>\n",
       "      <td>0.0</td>\n",
       "      <td>8.97</td>\n",
       "      <td>8.906687</td>\n",
       "    </tr>\n",
       "  </tbody>\n",
       "</table>\n",
       "</div>"
      ],
      "text/plain": [
       "  Month   Day  Temp Hi  Temp Low  Solar  Cloud Cover Percentage  \\\n",
       "0    Jan    1      109        85   30.0                       9   \n",
       "1    Jan    2      106        71   30.1                       9   \n",
       "2    Jan    3      106        81   29.5                       9   \n",
       "3    Jan    4      102        83   13.0                       4   \n",
       "4    Jan    5      105        80   30.1                       9   \n",
       "5    Jan    6      107        84   26.3                       8   \n",
       "6    Jan    7      104        82   30.2                       9   \n",
       "7    Jan    8      100        69   29.8                       9   \n",
       "8    Jan    9      103        81   30.1                       9   \n",
       "9    Jan   10      104        82   27.1                       9   \n",
       "\n",
       "   Rainfall in mm  Power Generated in MW  Solar_predictions  \n",
       "0             0.0                   9.93           8.975276  \n",
       "1             0.0                   9.97           5.495471  \n",
       "2             0.0                   9.77           8.344535  \n",
       "3             0.0                   4.30           6.191934  \n",
       "4             0.0                   9.97           6.291542  \n",
       "5             0.0                   8.71           6.522741  \n",
       "6             0.0                  10.00           3.244619  \n",
       "7             0.0                   9.87           5.961026  \n",
       "8             0.0                   9.97           8.542861  \n",
       "9             0.0                   8.97           8.906687  "
      ]
     },
     "execution_count": 21,
     "metadata": {},
     "output_type": "execute_result"
    }
   ],
   "source": [
    "#add predictions column to the dataFrame\n",
    "predictions = pd.DataFrame(y_pred)\n",
    "dSolar_2['Solar_predictions'] = predictions\n",
    "dSolar_2.head(10)"
   ]
  },
  {
   "cell_type": "markdown",
   "metadata": {},
   "source": [
    "### View first 5 datasets from the Solar dataframes"
   ]
  },
  {
   "cell_type": "code",
   "execution_count": 22,
   "metadata": {},
   "outputs": [
    {
     "data": {
      "text/html": [
       "<div>\n",
       "<style scoped>\n",
       "    .dataframe tbody tr th:only-of-type {\n",
       "        vertical-align: middle;\n",
       "    }\n",
       "\n",
       "    .dataframe tbody tr th {\n",
       "        vertical-align: top;\n",
       "    }\n",
       "\n",
       "    .dataframe thead th {\n",
       "        text-align: right;\n",
       "    }\n",
       "</style>\n",
       "<table border=\"1\" class=\"dataframe\">\n",
       "  <thead>\n",
       "    <tr style=\"text-align: right;\">\n",
       "      <th></th>\n",
       "      <th>wind speed</th>\n",
       "      <th>direction</th>\n",
       "      <th>Power Output</th>\n",
       "    </tr>\n",
       "  </thead>\n",
       "  <tbody>\n",
       "    <tr>\n",
       "      <td>0</td>\n",
       "      <td>16.00</td>\n",
       "      <td>218</td>\n",
       "      <td>34.76</td>\n",
       "    </tr>\n",
       "    <tr>\n",
       "      <td>1</td>\n",
       "      <td>15.91</td>\n",
       "      <td>218</td>\n",
       "      <td>36.59</td>\n",
       "    </tr>\n",
       "    <tr>\n",
       "      <td>2</td>\n",
       "      <td>15.82</td>\n",
       "      <td>218</td>\n",
       "      <td>32.35</td>\n",
       "    </tr>\n",
       "    <tr>\n",
       "      <td>3</td>\n",
       "      <td>15.73</td>\n",
       "      <td>218</td>\n",
       "      <td>39.37</td>\n",
       "    </tr>\n",
       "    <tr>\n",
       "      <td>4</td>\n",
       "      <td>15.64</td>\n",
       "      <td>218</td>\n",
       "      <td>33.22</td>\n",
       "    </tr>\n",
       "  </tbody>\n",
       "</table>\n",
       "</div>"
      ],
      "text/plain": [
       "   wind speed  direction  Power Output\n",
       "0       16.00        218         34.76\n",
       "1       15.91        218         36.59\n",
       "2       15.82        218         32.35\n",
       "3       15.73        218         39.37\n",
       "4       15.64        218         33.22"
      ]
     },
     "execution_count": 22,
     "metadata": {},
     "output_type": "execute_result"
    }
   ],
   "source": [
    "dWind_2.head()"
   ]
  },
  {
   "cell_type": "code",
   "execution_count": 23,
   "metadata": {},
   "outputs": [
    {
     "data": {
      "text/plain": [
       "Index(['wind speed', 'direction', 'Power Output'], dtype='object')"
      ]
     },
     "execution_count": 23,
     "metadata": {},
     "output_type": "execute_result"
    }
   ],
   "source": [
    "#confirm all column names for wind data\n",
    "dWind_2.columns"
   ]
  },
  {
   "cell_type": "code",
   "execution_count": 24,
   "metadata": {},
   "outputs": [
    {
     "name": "stdout",
     "output_type": "stream",
     "text": [
      "<class 'pandas.core.frame.DataFrame'>\n",
      "RangeIndex: 366 entries, 0 to 365\n",
      "Data columns (total 3 columns):\n",
      "wind speed      366 non-null float64\n",
      "direction       366 non-null int64\n",
      "Power Output    366 non-null float64\n",
      "dtypes: float64(2), int64(1)\n",
      "memory usage: 8.7 KB\n"
     ]
    }
   ],
   "source": [
    "#check column datatypes\n",
    "dWind_2.info()"
   ]
  },
  {
   "cell_type": "code",
   "execution_count": 25,
   "metadata": {},
   "outputs": [
    {
     "data": {
      "text/plain": [
       "wind speed      0\n",
       "direction       0\n",
       "Power Output    0\n",
       "dtype: int64"
      ]
     },
     "execution_count": 25,
     "metadata": {},
     "output_type": "execute_result"
    }
   ],
   "source": [
    "#check for any missing values\n",
    "dWind_2.isnull().sum()"
   ]
  },
  {
   "cell_type": "markdown",
   "metadata": {},
   "source": [
    "### ML model using wind data"
   ]
  },
  {
   "cell_type": "markdown",
   "metadata": {},
   "source": [
    "### Split data into training and test sets"
   ]
  },
  {
   "cell_type": "code",
   "execution_count": 26,
   "metadata": {},
   "outputs": [],
   "source": [
    "X1 = dWind_2.drop(['Power Output'], axis = 1).values # X are the input (or independent) variables\n",
    "y1 = dWind_2['Power Output'].values # Y is output (or dependent) variable"
   ]
  },
  {
   "cell_type": "code",
   "execution_count": 27,
   "metadata": {},
   "outputs": [],
   "source": [
    "# create training and testing sets\n",
    "X1_train, X1_test, y1_train, y1_test = train_test_split(X1, y1, test_size=0.2)"
   ]
  },
  {
   "cell_type": "markdown",
   "metadata": {},
   "source": [
    "### Fit the model"
   ]
  },
  {
   "cell_type": "code",
   "execution_count": 28,
   "metadata": {},
   "outputs": [],
   "source": [
    "lm = linear_model.LinearRegression()\n",
    "model = lm.fit(X1_train,y1_train)"
   ]
  },
  {
   "cell_type": "markdown",
   "metadata": {},
   "source": [
    "### Make Predictions"
   ]
  },
  {
   "cell_type": "code",
   "execution_count": 29,
   "metadata": {},
   "outputs": [],
   "source": [
    "y1_pred = lm.predict(X1_test)"
   ]
  },
  {
   "cell_type": "code",
   "execution_count": 30,
   "metadata": {},
   "outputs": [
    {
     "name": "stdout",
     "output_type": "stream",
     "text": [
      "[35.64568919 28.97798071 44.32609372 41.89317172 41.99702496]\n"
     ]
    }
   ],
   "source": [
    "print(y1_pred[0:5]) # print the first 5 predictions"
   ]
  },
  {
   "cell_type": "code",
   "execution_count": 31,
   "metadata": {},
   "outputs": [
    {
     "name": "stdout",
     "output_type": "stream",
     "text": [
      "32.72 35.645689192585564\n",
      "31.02 28.977980708964708\n",
      "44.31 44.32609371588214\n",
      "45.81 41.893171716274296\n",
      "46.48 41.99702496322075\n",
      "34.65 35.905926740234605\n",
      "44.56 43.89430314072891\n",
      "44.79 43.50227014354499\n",
      "28.0 29.11050596886237\n",
      "47.21 43.58564017122396\n"
     ]
    }
   ],
   "source": [
    "#side by side of actual values and predicated values\n",
    "#predict banking crisis\n",
    "y1_pred = lm.predict(X1_test)\n",
    "\n",
    "#connect predictions with actual banking crisis values\n",
    "for i in range(10):\n",
    "    print(y1_test[i], y1_pred[i])"
   ]
  },
  {
   "cell_type": "code",
   "execution_count": 32,
   "metadata": {},
   "outputs": [
    {
     "data": {
      "text/html": [
       "<div>\n",
       "<style scoped>\n",
       "    .dataframe tbody tr th:only-of-type {\n",
       "        vertical-align: middle;\n",
       "    }\n",
       "\n",
       "    .dataframe tbody tr th {\n",
       "        vertical-align: top;\n",
       "    }\n",
       "\n",
       "    .dataframe thead th {\n",
       "        text-align: right;\n",
       "    }\n",
       "</style>\n",
       "<table border=\"1\" class=\"dataframe\">\n",
       "  <thead>\n",
       "    <tr style=\"text-align: right;\">\n",
       "      <th></th>\n",
       "      <th>wind speed</th>\n",
       "      <th>direction</th>\n",
       "      <th>Power Output</th>\n",
       "      <th>Wind_predictions</th>\n",
       "    </tr>\n",
       "  </thead>\n",
       "  <tbody>\n",
       "    <tr>\n",
       "      <td>0</td>\n",
       "      <td>16.00</td>\n",
       "      <td>218</td>\n",
       "      <td>34.76</td>\n",
       "      <td>35.645689</td>\n",
       "    </tr>\n",
       "    <tr>\n",
       "      <td>1</td>\n",
       "      <td>15.91</td>\n",
       "      <td>218</td>\n",
       "      <td>36.59</td>\n",
       "      <td>28.977981</td>\n",
       "    </tr>\n",
       "    <tr>\n",
       "      <td>2</td>\n",
       "      <td>15.82</td>\n",
       "      <td>218</td>\n",
       "      <td>32.35</td>\n",
       "      <td>44.326094</td>\n",
       "    </tr>\n",
       "    <tr>\n",
       "      <td>3</td>\n",
       "      <td>15.73</td>\n",
       "      <td>218</td>\n",
       "      <td>39.37</td>\n",
       "      <td>41.893172</td>\n",
       "    </tr>\n",
       "    <tr>\n",
       "      <td>4</td>\n",
       "      <td>15.64</td>\n",
       "      <td>218</td>\n",
       "      <td>33.22</td>\n",
       "      <td>41.997025</td>\n",
       "    </tr>\n",
       "    <tr>\n",
       "      <td>5</td>\n",
       "      <td>15.55</td>\n",
       "      <td>218</td>\n",
       "      <td>37.09</td>\n",
       "      <td>35.905927</td>\n",
       "    </tr>\n",
       "    <tr>\n",
       "      <td>6</td>\n",
       "      <td>15.46</td>\n",
       "      <td>218</td>\n",
       "      <td>41.23</td>\n",
       "      <td>43.894303</td>\n",
       "    </tr>\n",
       "    <tr>\n",
       "      <td>7</td>\n",
       "      <td>15.37</td>\n",
       "      <td>218</td>\n",
       "      <td>32.72</td>\n",
       "      <td>43.502270</td>\n",
       "    </tr>\n",
       "    <tr>\n",
       "      <td>8</td>\n",
       "      <td>15.28</td>\n",
       "      <td>218</td>\n",
       "      <td>40.39</td>\n",
       "      <td>29.110506</td>\n",
       "    </tr>\n",
       "    <tr>\n",
       "      <td>9</td>\n",
       "      <td>15.19</td>\n",
       "      <td>218</td>\n",
       "      <td>37.54</td>\n",
       "      <td>43.585640</td>\n",
       "    </tr>\n",
       "  </tbody>\n",
       "</table>\n",
       "</div>"
      ],
      "text/plain": [
       "   wind speed  direction  Power Output  Wind_predictions\n",
       "0       16.00        218         34.76         35.645689\n",
       "1       15.91        218         36.59         28.977981\n",
       "2       15.82        218         32.35         44.326094\n",
       "3       15.73        218         39.37         41.893172\n",
       "4       15.64        218         33.22         41.997025\n",
       "5       15.55        218         37.09         35.905927\n",
       "6       15.46        218         41.23         43.894303\n",
       "7       15.37        218         32.72         43.502270\n",
       "8       15.28        218         40.39         29.110506\n",
       "9       15.19        218         37.54         43.585640"
      ]
     },
     "execution_count": 32,
     "metadata": {},
     "output_type": "execute_result"
    }
   ],
   "source": [
    "#add predictions column to the dataFrame\n",
    "predictions = pd.DataFrame(y1_pred)\n",
    "dWind_2['Wind_predictions'] = predictions\n",
    "dWind_2.head(10)"
   ]
  },
  {
   "cell_type": "code",
   "execution_count": null,
   "metadata": {},
   "outputs": [],
   "source": []
  }
 ],
 "metadata": {
  "kernelspec": {
   "display_name": "Python 3",
   "language": "python",
   "name": "python3"
  },
  "language_info": {
   "codemirror_mode": {
    "name": "ipython",
    "version": 3
   },
   "file_extension": ".py",
   "mimetype": "text/x-python",
   "name": "python",
   "nbconvert_exporter": "python",
   "pygments_lexer": "ipython3",
   "version": "3.7.4"
  }
 },
 "nbformat": 4,
 "nbformat_minor": 2
}
