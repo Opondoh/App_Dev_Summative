{
 "cells": [
  {
   "cell_type": "markdown",
   "metadata": {},
   "source": [
    "# <font color=blue>AppDev_Summative </font>"
   ]
  },
  {
   "cell_type": "markdown",
   "metadata": {},
   "source": [
    "### Import neccessary libraries"
   ]
  },
  {
   "cell_type": "code",
   "execution_count": 1,
   "metadata": {},
   "outputs": [],
   "source": [
    "from sklearn import linear_model\n",
    "import pandas as pd"
   ]
  },
  {
   "cell_type": "markdown",
   "metadata": {},
   "source": [
    "### Load data from all data files"
   ]
  },
  {
   "cell_type": "code",
   "execution_count": 2,
   "metadata": {},
   "outputs": [],
   "source": [
    "dSolar_1 = pd.read_csv('solar_farm.csv')\n",
    "dSolar_2 = pd.read_csv('solar_generation_data.csv')\n",
    "dWind_1 = pd.read_csv('wind_farm.csv')\n",
    "dWind_2 = pd.read_csv('wind_generation_data.csv')"
   ]
  },
  {
   "cell_type": "code",
   "execution_count": 3,
   "metadata": {},
   "outputs": [
    {
     "name": "stdout",
     "output_type": "stream",
     "text": [
      "(365, 8) (366, 3)\n"
     ]
    }
   ],
   "source": [
    "print(dSolar_2.shape, dWind_2.shape)"
   ]
  },
  {
   "cell_type": "code",
   "execution_count": 4,
   "metadata": {},
   "outputs": [
    {
     "data": {
      "text/html": [
       "<div>\n",
       "<style scoped>\n",
       "    .dataframe tbody tr th:only-of-type {\n",
       "        vertical-align: middle;\n",
       "    }\n",
       "\n",
       "    .dataframe tbody tr th {\n",
       "        vertical-align: top;\n",
       "    }\n",
       "\n",
       "    .dataframe thead th {\n",
       "        text-align: right;\n",
       "    }\n",
       "</style>\n",
       "<table border=\"1\" class=\"dataframe\">\n",
       "  <thead>\n",
       "    <tr style=\"text-align: right;\">\n",
       "      <th></th>\n",
       "      <th>Unnamed: 0</th>\n",
       "      <th>Unnamed: 1</th>\n",
       "    </tr>\n",
       "  </thead>\n",
       "  <tbody>\n",
       "    <tr>\n",
       "      <td>0</td>\n",
       "      <td>Date Of Month</td>\n",
       "      <td>Capacity Available</td>\n",
       "    </tr>\n",
       "    <tr>\n",
       "      <td>1</td>\n",
       "      <td>4</td>\n",
       "      <td>3</td>\n",
       "    </tr>\n",
       "    <tr>\n",
       "      <td>2</td>\n",
       "      <td>6</td>\n",
       "      <td>5</td>\n",
       "    </tr>\n",
       "    <tr>\n",
       "      <td>3</td>\n",
       "      <td>19</td>\n",
       "      <td>2</td>\n",
       "    </tr>\n",
       "    <tr>\n",
       "      <td>4</td>\n",
       "      <td>23</td>\n",
       "      <td>50</td>\n",
       "    </tr>\n",
       "  </tbody>\n",
       "</table>\n",
       "</div>"
      ],
      "text/plain": [
       "      Unnamed: 0          Unnamed: 1\n",
       "0  Date Of Month  Capacity Available\n",
       "1              4                   3\n",
       "2              6                   5\n",
       "3             19                   2\n",
       "4             23                  50"
      ]
     },
     "execution_count": 4,
     "metadata": {},
     "output_type": "execute_result"
    }
   ],
   "source": [
    "dSolar_1.head()"
   ]
  },
  {
   "cell_type": "markdown",
   "metadata": {},
   "source": [
    "### View first 5 datasets from the Solar dataframes"
   ]
  },
  {
   "cell_type": "code",
   "execution_count": 5,
   "metadata": {},
   "outputs": [
    {
     "data": {
      "text/html": [
       "<div>\n",
       "<style scoped>\n",
       "    .dataframe tbody tr th:only-of-type {\n",
       "        vertical-align: middle;\n",
       "    }\n",
       "\n",
       "    .dataframe tbody tr th {\n",
       "        vertical-align: top;\n",
       "    }\n",
       "\n",
       "    .dataframe thead th {\n",
       "        text-align: right;\n",
       "    }\n",
       "</style>\n",
       "<table border=\"1\" class=\"dataframe\">\n",
       "  <thead>\n",
       "    <tr style=\"text-align: right;\">\n",
       "      <th></th>\n",
       "      <th>Month</th>\n",
       "      <th>Day</th>\n",
       "      <th>Temp Hi</th>\n",
       "      <th>Temp Low</th>\n",
       "      <th>Solar</th>\n",
       "      <th>Cloud Cover Percentage</th>\n",
       "      <th>Rainfall in mm</th>\n",
       "      <th>Power Generated in MW</th>\n",
       "    </tr>\n",
       "  </thead>\n",
       "  <tbody>\n",
       "    <tr>\n",
       "      <td>0</td>\n",
       "      <td>Jan</td>\n",
       "      <td>1</td>\n",
       "      <td>109°</td>\n",
       "      <td>85°</td>\n",
       "      <td>30.0</td>\n",
       "      <td>9</td>\n",
       "      <td>0.0</td>\n",
       "      <td>9.93</td>\n",
       "    </tr>\n",
       "    <tr>\n",
       "      <td>1</td>\n",
       "      <td>Jan</td>\n",
       "      <td>2</td>\n",
       "      <td>106°</td>\n",
       "      <td>71°</td>\n",
       "      <td>30.1</td>\n",
       "      <td>9</td>\n",
       "      <td>0.0</td>\n",
       "      <td>9.97</td>\n",
       "    </tr>\n",
       "    <tr>\n",
       "      <td>2</td>\n",
       "      <td>Jan</td>\n",
       "      <td>3</td>\n",
       "      <td>106°</td>\n",
       "      <td>81°</td>\n",
       "      <td>29.5</td>\n",
       "      <td>9</td>\n",
       "      <td>0.0</td>\n",
       "      <td>9.77</td>\n",
       "    </tr>\n",
       "    <tr>\n",
       "      <td>3</td>\n",
       "      <td>Jan</td>\n",
       "      <td>4</td>\n",
       "      <td>102°</td>\n",
       "      <td>83°</td>\n",
       "      <td>13.0</td>\n",
       "      <td>4</td>\n",
       "      <td>0.0</td>\n",
       "      <td>4.30</td>\n",
       "    </tr>\n",
       "    <tr>\n",
       "      <td>4</td>\n",
       "      <td>Jan</td>\n",
       "      <td>5</td>\n",
       "      <td>105°</td>\n",
       "      <td>80°</td>\n",
       "      <td>30.1</td>\n",
       "      <td>9</td>\n",
       "      <td>0.0</td>\n",
       "      <td>9.97</td>\n",
       "    </tr>\n",
       "  </tbody>\n",
       "</table>\n",
       "</div>"
      ],
      "text/plain": [
       "  Month   Day Temp Hi Temp Low  Solar  Cloud Cover Percentage  Rainfall in mm  \\\n",
       "0    Jan    1    109°      85°   30.0                       9             0.0   \n",
       "1    Jan    2    106°      71°   30.1                       9             0.0   \n",
       "2    Jan    3    106°      81°   29.5                       9             0.0   \n",
       "3    Jan    4    102°      83°   13.0                       4             0.0   \n",
       "4    Jan    5    105°      80°   30.1                       9             0.0   \n",
       "\n",
       "   Power Generated in MW  \n",
       "0                   9.93  \n",
       "1                   9.97  \n",
       "2                   9.77  \n",
       "3                   4.30  \n",
       "4                   9.97  "
      ]
     },
     "execution_count": 5,
     "metadata": {},
     "output_type": "execute_result"
    }
   ],
   "source": [
    "dSolar_2.head()"
   ]
  },
  {
   "cell_type": "code",
   "execution_count": 6,
   "metadata": {},
   "outputs": [],
   "source": [
    "#remove the degree symbol\n",
    "dSolar_2['Temp Hi'] = dSolar_2['Temp Hi'].replace('\\u00b0','', regex=True)\n",
    "dSolar_2['Temp Low'] = dSolar_2['Temp Low'].replace('\\u00b0','', regex=True)"
   ]
  },
  {
   "cell_type": "code",
   "execution_count": 7,
   "metadata": {},
   "outputs": [
    {
     "data": {
      "text/html": [
       "<div>\n",
       "<style scoped>\n",
       "    .dataframe tbody tr th:only-of-type {\n",
       "        vertical-align: middle;\n",
       "    }\n",
       "\n",
       "    .dataframe tbody tr th {\n",
       "        vertical-align: top;\n",
       "    }\n",
       "\n",
       "    .dataframe thead th {\n",
       "        text-align: right;\n",
       "    }\n",
       "</style>\n",
       "<table border=\"1\" class=\"dataframe\">\n",
       "  <thead>\n",
       "    <tr style=\"text-align: right;\">\n",
       "      <th></th>\n",
       "      <th>Month</th>\n",
       "      <th>Day</th>\n",
       "      <th>Temp Hi</th>\n",
       "      <th>Temp Low</th>\n",
       "      <th>Solar</th>\n",
       "      <th>Cloud Cover Percentage</th>\n",
       "      <th>Rainfall in mm</th>\n",
       "      <th>Power Generated in MW</th>\n",
       "    </tr>\n",
       "  </thead>\n",
       "  <tbody>\n",
       "    <tr>\n",
       "      <td>0</td>\n",
       "      <td>Jan</td>\n",
       "      <td>1</td>\n",
       "      <td>109</td>\n",
       "      <td>85</td>\n",
       "      <td>30.0</td>\n",
       "      <td>9</td>\n",
       "      <td>0.0</td>\n",
       "      <td>9.93</td>\n",
       "    </tr>\n",
       "    <tr>\n",
       "      <td>1</td>\n",
       "      <td>Jan</td>\n",
       "      <td>2</td>\n",
       "      <td>106</td>\n",
       "      <td>71</td>\n",
       "      <td>30.1</td>\n",
       "      <td>9</td>\n",
       "      <td>0.0</td>\n",
       "      <td>9.97</td>\n",
       "    </tr>\n",
       "    <tr>\n",
       "      <td>2</td>\n",
       "      <td>Jan</td>\n",
       "      <td>3</td>\n",
       "      <td>106</td>\n",
       "      <td>81</td>\n",
       "      <td>29.5</td>\n",
       "      <td>9</td>\n",
       "      <td>0.0</td>\n",
       "      <td>9.77</td>\n",
       "    </tr>\n",
       "    <tr>\n",
       "      <td>3</td>\n",
       "      <td>Jan</td>\n",
       "      <td>4</td>\n",
       "      <td>102</td>\n",
       "      <td>83</td>\n",
       "      <td>13.0</td>\n",
       "      <td>4</td>\n",
       "      <td>0.0</td>\n",
       "      <td>4.30</td>\n",
       "    </tr>\n",
       "    <tr>\n",
       "      <td>4</td>\n",
       "      <td>Jan</td>\n",
       "      <td>5</td>\n",
       "      <td>105</td>\n",
       "      <td>80</td>\n",
       "      <td>30.1</td>\n",
       "      <td>9</td>\n",
       "      <td>0.0</td>\n",
       "      <td>9.97</td>\n",
       "    </tr>\n",
       "  </tbody>\n",
       "</table>\n",
       "</div>"
      ],
      "text/plain": [
       "  Month   Day Temp Hi Temp Low  Solar  Cloud Cover Percentage  Rainfall in mm  \\\n",
       "0    Jan    1     109       85   30.0                       9             0.0   \n",
       "1    Jan    2     106       71   30.1                       9             0.0   \n",
       "2    Jan    3     106       81   29.5                       9             0.0   \n",
       "3    Jan    4     102       83   13.0                       4             0.0   \n",
       "4    Jan    5     105       80   30.1                       9             0.0   \n",
       "\n",
       "   Power Generated in MW  \n",
       "0                   9.93  \n",
       "1                   9.97  \n",
       "2                   9.77  \n",
       "3                   4.30  \n",
       "4                   9.97  "
      ]
     },
     "execution_count": 7,
     "metadata": {},
     "output_type": "execute_result"
    }
   ],
   "source": [
    "dSolar_2.head()"
   ]
  },
  {
   "cell_type": "code",
   "execution_count": 9,
   "metadata": {},
   "outputs": [
    {
     "data": {
      "text/plain": [
       "Index(['Month ', 'Day', 'Temp Hi', 'Temp Low', 'Solar',\n",
       "       'Cloud Cover Percentage', 'Rainfall in mm', 'Power Generated in MW'],\n",
       "      dtype='object')"
      ]
     },
     "execution_count": 9,
     "metadata": {},
     "output_type": "execute_result"
    }
   ],
   "source": [
    "#confirm all column names for solar data\n",
    "dSolar_2.columns"
   ]
  },
  {
   "cell_type": "code",
   "execution_count": null,
   "metadata": {},
   "outputs": [],
   "source": []
  },
  {
   "cell_type": "code",
   "execution_count": 11,
   "metadata": {},
   "outputs": [
    {
     "name": "stdout",
     "output_type": "stream",
     "text": [
      "<class 'pandas.core.frame.DataFrame'>\n",
      "RangeIndex: 365 entries, 0 to 364\n",
      "Data columns (total 8 columns):\n",
      "Month                     365 non-null object\n",
      "Day                       365 non-null int64\n",
      "Temp Hi                   365 non-null int64\n",
      "Temp Low                  365 non-null int64\n",
      "Solar                     365 non-null float64\n",
      "Cloud Cover Percentage    365 non-null int64\n",
      "Rainfall in mm            312 non-null float64\n",
      "Power Generated in MW     365 non-null float64\n",
      "dtypes: float64(3), int64(4), object(1)\n",
      "memory usage: 22.9+ KB\n"
     ]
    }
   ],
   "source": [
    "#change all the data Temp Hi and Temp Low to numbers\n",
    "cols=[i for i in dSolar_2.columns if i in ['Temp Hi', 'Temp Low']]\n",
    "for col in cols:\n",
    "    dSolar_2[col]=pd.to_numeric(dSolar_2[col], errors='coerce')\n",
    "dSolar_2.info()"
   ]
  },
  {
   "cell_type": "code",
   "execution_count": 12,
   "metadata": {},
   "outputs": [
    {
     "data": {
      "text/plain": [
       "Month                      0\n",
       "Day                        0\n",
       "Temp Hi                    0\n",
       "Temp Low                   0\n",
       "Solar                      0\n",
       "Cloud Cover Percentage     0\n",
       "Rainfall in mm            53\n",
       "Power Generated in MW      0\n",
       "dtype: int64"
      ]
     },
     "execution_count": 12,
     "metadata": {},
     "output_type": "execute_result"
    }
   ],
   "source": [
    "dSolar_2.isnull().sum()"
   ]
  },
  {
   "cell_type": "code",
   "execution_count": 13,
   "metadata": {},
   "outputs": [
    {
     "data": {
      "text/plain": [
       "Month                     0\n",
       "Day                       0\n",
       "Temp Hi                   0\n",
       "Temp Low                  0\n",
       "Solar                     0\n",
       "Cloud Cover Percentage    0\n",
       "Rainfall in mm            0\n",
       "Power Generated in MW     0\n",
       "dtype: int64"
      ]
     },
     "execution_count": 13,
     "metadata": {},
     "output_type": "execute_result"
    }
   ],
   "source": [
    "#drop remaining missing values\n",
    "dSolar_clean = dSolar_2.dropna()\n",
    "dSolar_clean.isnull().sum()"
   ]
  },
  {
   "cell_type": "markdown",
   "metadata": {},
   "source": [
    "### Create a simple ML model which accepts suitable inputs and gives a predicted power output for each power generation plant for any day within the next 7 days. Note that these may be 2 ML models (1 for each plant)"
   ]
  },
  {
   "cell_type": "markdown",
   "metadata": {},
   "source": [
    "### ML model using solar data"
   ]
  },
  {
   "cell_type": "markdown",
   "metadata": {},
   "source": [
    "### Split data into training and test sets"
   ]
  },
  {
   "cell_type": "code",
   "execution_count": 14,
   "metadata": {},
   "outputs": [],
   "source": [
    "X = dSolar_clean.drop(['Month ', 'Day', 'Power Generated in MW'], axis = 1).values # X are the input (or independent) variables\n",
    "y = dSolar_clean['Power Generated in MW'].values # Y is output (or dependent) variable"
   ]
  },
  {
   "cell_type": "markdown",
   "metadata": {},
   "source": [
    "A rule of thumb is to split data into training and test sets by 80/20 or 70/30."
   ]
  },
  {
   "cell_type": "code",
   "execution_count": 15,
   "metadata": {},
   "outputs": [],
   "source": [
    "from sklearn.model_selection import train_test_split"
   ]
  },
  {
   "cell_type": "code",
   "execution_count": 16,
   "metadata": {},
   "outputs": [],
   "source": [
    "# create training and testing sets\n",
    "X_train, X_test, y_train, y_test = train_test_split(X, y, test_size=0.2)"
   ]
  },
  {
   "cell_type": "markdown",
   "metadata": {},
   "source": [
    "### Fit the model"
   ]
  },
  {
   "cell_type": "markdown",
   "metadata": {},
   "source": [
    "The `fit()` function fits a linear model. We'll fit the model on the training data."
   ]
  },
  {
   "cell_type": "code",
   "execution_count": 17,
   "metadata": {},
   "outputs": [],
   "source": [
    "lm = linear_model.LinearRegression()\n",
    "model = lm.fit(X_train,y_train)"
   ]
  },
  {
   "cell_type": "markdown",
   "metadata": {},
   "source": [
    "### Make Predictions"
   ]
  },
  {
   "cell_type": "markdown",
   "metadata": {},
   "source": [
    "We'll predict the dependent variable using the linear model we fitted with the test dataset."
   ]
  },
  {
   "cell_type": "code",
   "execution_count": 18,
   "metadata": {},
   "outputs": [],
   "source": [
    "y_pred = lm.predict(X_test)"
   ]
  },
  {
   "cell_type": "code",
   "execution_count": 19,
   "metadata": {},
   "outputs": [
    {
     "name": "stdout",
     "output_type": "stream",
     "text": [
      "[5.76047882 8.70834997 4.43588357 3.17933766 6.125733  ]\n"
     ]
    }
   ],
   "source": [
    "print(y_pred[0:5]) # print the first 5 predictions"
   ]
  },
  {
   "cell_type": "code",
   "execution_count": 24,
   "metadata": {},
   "outputs": [
    {
     "name": "stdout",
     "output_type": "stream",
     "text": [
      "5.76 5.760478819147479\n",
      "8.71 8.708349973831634\n",
      "4.44 4.435883571735594\n",
      "3.18 3.179337663259757\n",
      "6.13 6.125733004389053\n",
      "7.42 7.4169441928107185\n",
      "9.93 9.933413910588776\n",
      "4.17 4.171336951234531\n",
      "6.19 6.191792593200832\n",
      "6.56 6.555698570105249\n"
     ]
    }
   ],
   "source": [
    "#side by side of actual values and predicated values\n",
    "#predict banking crisis\n",
    "y_pred = lm.predict(X_test)\n",
    "\n",
    "#convert y_test into an array\n",
    "#y_test1 = y_test.to_numpy()\n",
    "\n",
    "#connect predictions with actual banking crisis values\n",
    "for i in range(10):\n",
    "    print(y_test[i], y_pred[i])"
   ]
  },
  {
   "cell_type": "code",
   "execution_count": null,
   "metadata": {},
   "outputs": [],
   "source": []
  },
  {
   "cell_type": "code",
   "execution_count": 8,
   "metadata": {},
   "outputs": [
    {
     "data": {
      "text/html": [
       "<div>\n",
       "<style scoped>\n",
       "    .dataframe tbody tr th:only-of-type {\n",
       "        vertical-align: middle;\n",
       "    }\n",
       "\n",
       "    .dataframe tbody tr th {\n",
       "        vertical-align: top;\n",
       "    }\n",
       "\n",
       "    .dataframe thead th {\n",
       "        text-align: right;\n",
       "    }\n",
       "</style>\n",
       "<table border=\"1\" class=\"dataframe\">\n",
       "  <thead>\n",
       "    <tr style=\"text-align: right;\">\n",
       "      <th></th>\n",
       "      <th>wind speed</th>\n",
       "      <th>direction</th>\n",
       "      <th>Power Output</th>\n",
       "    </tr>\n",
       "  </thead>\n",
       "  <tbody>\n",
       "    <tr>\n",
       "      <td>0</td>\n",
       "      <td>16.00</td>\n",
       "      <td>218</td>\n",
       "      <td>34.76</td>\n",
       "    </tr>\n",
       "    <tr>\n",
       "      <td>1</td>\n",
       "      <td>15.91</td>\n",
       "      <td>218</td>\n",
       "      <td>36.59</td>\n",
       "    </tr>\n",
       "    <tr>\n",
       "      <td>2</td>\n",
       "      <td>15.82</td>\n",
       "      <td>218</td>\n",
       "      <td>32.35</td>\n",
       "    </tr>\n",
       "    <tr>\n",
       "      <td>3</td>\n",
       "      <td>15.73</td>\n",
       "      <td>218</td>\n",
       "      <td>39.37</td>\n",
       "    </tr>\n",
       "    <tr>\n",
       "      <td>4</td>\n",
       "      <td>15.64</td>\n",
       "      <td>218</td>\n",
       "      <td>33.22</td>\n",
       "    </tr>\n",
       "  </tbody>\n",
       "</table>\n",
       "</div>"
      ],
      "text/plain": [
       "   wind speed  direction  Power Output\n",
       "0       16.00        218         34.76\n",
       "1       15.91        218         36.59\n",
       "2       15.82        218         32.35\n",
       "3       15.73        218         39.37\n",
       "4       15.64        218         33.22"
      ]
     },
     "execution_count": 8,
     "metadata": {},
     "output_type": "execute_result"
    }
   ],
   "source": [
    "dWind_2.head()"
   ]
  },
  {
   "cell_type": "code",
   "execution_count": 25,
   "metadata": {},
   "outputs": [
    {
     "data": {
      "text/plain": [
       "Index(['wind speed', 'direction', 'Power Output'], dtype='object')"
      ]
     },
     "execution_count": 25,
     "metadata": {},
     "output_type": "execute_result"
    }
   ],
   "source": [
    "#confirm all column names for wind data\n",
    "dWind_2.columns"
   ]
  }
 ],
 "metadata": {
  "kernelspec": {
   "display_name": "Python 3",
   "language": "python",
   "name": "python3"
  },
  "language_info": {
   "codemirror_mode": {
    "name": "ipython",
    "version": 3
   },
   "file_extension": ".py",
   "mimetype": "text/x-python",
   "name": "python",
   "nbconvert_exporter": "python",
   "pygments_lexer": "ipython3",
   "version": "3.7.4"
  }
 },
 "nbformat": 4,
 "nbformat_minor": 2
}
